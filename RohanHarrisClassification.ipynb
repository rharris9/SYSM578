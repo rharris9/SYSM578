{
  "nbformat": 4,
  "nbformat_minor": 0,
  "metadata": {
    "colab": {
      "provenance": [],
      "authorship_tag": "ABX9TyOCY6AjqkmYIHt7sECIxsz4",
      "include_colab_link": true
    },
    "kernelspec": {
      "name": "python3",
      "display_name": "Python 3"
    },
    "language_info": {
      "name": "python"
    }
  },
  "cells": [
    {
      "cell_type": "markdown",
      "metadata": {
        "id": "view-in-github",
        "colab_type": "text"
      },
      "source": [
        "<a href=\"https://colab.research.google.com/github/rharris9/SYSM578/blob/main/RohanHarrisClassification.ipynb\" target=\"_parent\"><img src=\"https://colab.research.google.com/assets/colab-badge.svg\" alt=\"Open In Colab\"/></a>"
      ]
    },
    {
      "cell_type": "markdown",
      "source": [
        "Importing Data and linking the datasets to have data with the desired labels"
      ],
      "metadata": {
        "id": "9BAVqVDA5uJk"
      }
    },
    {
      "cell_type": "code",
      "source": [
        "#import pandas and numpy\n",
        "import pandas as pd\n",
        "import numpy as np\n",
        "\n",
        "#import standard classification tools from sklearn\n",
        "from sklearn.metrics import classification_report, confusion_matrix, accuracy_score\n",
        "import itertools\n",
        "\n",
        "# Loading SVM problems\n",
        "from sklearn.model_selection import train_test_split\n",
        "from sklearn.svm import LinearSVC\n",
        "from sklearn.preprocessing import scale\n",
        "import warnings\n",
        "\n",
        "#import tools for ROC curves\n",
        "from sklearn.preprocessing import label_binarize\n",
        "from sklearn.metrics import roc_curve, auc\n",
        "\n",
        "#visualization\n",
        "import plotly.express as px\n",
        "import plotly.graph_objects as go\n",
        "import plotly.figure_factory as ff\n",
        "\n",
        "template = 'ggplot2'\n",
        "test_size = 0.3\n",
        "\n",
        "data = pd.read_table('https://raw.githubusercontent.com/PineBiotech/omicslogic/master/TCGA_43_clinical.csv',sep='\\,',header=(0))\n",
        "\n",
        "rawdata = pd.read_table('https://raw.githubusercontent.com/PineBiotech/omicslogic/master/LIHC_RSEM_42cases.txt',sep='\\t',header=(0))\n",
        "\n",
        "\n",
        "#prepare data\n",
        "features = data.iloc[1:, 0].values\n",
        "data=data.drop(['Variable'], axis = 1) \n",
        "dataT = np.transpose(data)\n",
        "\n",
        "\n",
        "X = rawdata.iloc[:, 0:].values\n",
        "y = data.iloc[:, 1].values\n",
        "\n",
        "race = np.unique(y)\n",
        "n_race = len(race)\n",
        "str(race)\n",
        "\n",
        "#X = scale(race, axis=1)\n",
        "#X_train, X_test, y_train, y_test = train_test_split(X, y, test_size=test_size, random_state=1)\n",
        "\n",
        "race"
      ],
      "metadata": {
        "colab": {
          "base_uri": "https://localhost:8080/"
        },
        "id": "sf16-DjKnvh5",
        "outputId": "beb72102-8b8c-426f-c8d4-e720a8b4d1fd"
      },
      "execution_count": 71,
      "outputs": [
        {
          "output_type": "execute_result",
          "data": {
            "text/plain": [
              "array(['ASIAN', 'BLACK OR AFRICAN AMERICAN', 'WHITE'], dtype=object)"
            ]
          },
          "metadata": {},
          "execution_count": 71
        }
      ]
    },
    {
      "cell_type": "markdown",
      "source": [
        "First step for Random forest is to train data"
      ],
      "metadata": {
        "id": "m9vi0V9h-PfK"
      }
    },
    {
      "cell_type": "code",
      "source": [
        "from sklearn.ensemble import RandomForestClassifier\n",
        "from sklearn.metrics import classification_report, confusion_matrix, accuracy_score\n",
        "\n",
        "from sklearn.model_selection import train_test_split\n",
        "X_train, X_test, y_train, y_test = train_test_split(\n",
        "    X, y, test_size=0.3, random_state=0)\n",
        "\n",
        "#finding out how many samples were from asian patients\n",
        "print(len(y[y == 'ASIAN']))\n"
      ],
      "metadata": {
        "id": "fgl9bhvqkBjY"
      },
      "execution_count": null,
      "outputs": []
    },
    {
      "cell_type": "code",
      "source": [
        "\n",
        "#finding out how many samples were from Black or African American patients\n",
        "print(len(y[y == 'BLACK OR AFRICAN AMERICAN']))"
      ],
      "metadata": {
        "id": "sQOxkMBU_v-6"
      },
      "execution_count": null,
      "outputs": []
    },
    {
      "cell_type": "code",
      "source": [
        "#finding out how many samples were from White patients\n",
        "print(len(y[y == 'WHITE']))"
      ],
      "metadata": {
        "id": "mCTQ-tsh_3MV"
      },
      "execution_count": null,
      "outputs": []
    },
    {
      "cell_type": "code",
      "source": [
        "#Comparing proportion of the study population by race\n",
        "\n",
        "for sample_type in race:\n",
        "  print(sample_type, \": \", round(len(y_test[y_test == sample_type])/len(y[y == sample_type]),2))"
      ],
      "metadata": {
        "id": "KT8wSxrhACp0"
      },
      "execution_count": null,
      "outputs": []
    },
    {
      "cell_type": "markdown",
      "source": [
        "Random Forest"
      ],
      "metadata": {
        "id": "YpZ96qUOAQwj"
      }
    },
    {
      "cell_type": "code",
      "source": [
        "#define Random forest model\n",
        "model = RandomForestClassifier(n_estimators=500, bootstrap=True, verbose=True)\n",
        "from sklearn.ensemble import RandomForestClassifier\n",
        "from sklearn.metrics import classification_report, confusion_matrix, accuracy_score\n",
        "\n",
        "#define Random forest model\n",
        "model = RandomForestClassifier(n_estimators=500, bootstrap=True, verbose=False)\n",
        "\n",
        "#fit model on training data\n",
        "model.fit(X_train, y_train)\n",
        "\n",
        "estimator = model.estimators_[10]\n",
        "\n",
        "#predicting test data\n",
        "predictions = model.predict(X_test)\n",
        "print(\"Model accuracy = \", round(accuracy_score(y_test, predictions),2))\n"
      ],
      "metadata": {
        "id": "ArpizgMx_fTc"
      },
      "execution_count": null,
      "outputs": []
    },
    {
      "cell_type": "markdown",
      "source": [
        "Confusion Matrix for Random Forest classification"
      ],
      "metadata": {
        "id": "UMMS0PVlAah3"
      }
    },
    {
      "cell_type": "code",
      "source": [
        "#prepare a confusion matrix\n",
        "conf = confusion_matrix(y_test,predictions)\n",
        "new_conf = pd.DataFrame(conf, columns=race, index=race)\n",
        "\n",
        "import matplotlib.pyplot as plt\n",
        "import seaborn as sns\n",
        "\n",
        "#plot heatmap of confusion matrix\n",
        "fig, ax = plt.subplots(figsize=(13, 10))\n",
        "sns.heatmap(new_conf, annot=True);"
      ],
      "metadata": {
        "id": "RWHih26vAdDf"
      },
      "execution_count": null,
      "outputs": []
    },
    {
      "cell_type": "markdown",
      "source": [
        "Feature Importance for Random Forest"
      ],
      "metadata": {
        "id": "-nWNi0IKArJj"
      }
    },
    {
      "cell_type": "code",
      "source": [
        "importances = model.feature_importances_\n",
        "std = np.std([tree.feature_importances_ for tree in model.estimators_], axis=0)\n",
        "\n",
        "forest_importances = pd.Series(importances, index=features)\n",
        "forest_importances_top = forest_importances[forest_importances > 0.003]\n",
        "forest_importances_top = forest_importances_top.sort_values()\n",
        "\n",
        "#plot forest_importances\n",
        "forest_importances_top.plot.bar(figsize=(15, 10));"
      ],
      "metadata": {
        "id": "WBY6zZ9xAvEu"
      },
      "execution_count": null,
      "outputs": []
    },
    {
      "cell_type": "markdown",
      "source": [
        "SVC Classification"
      ],
      "metadata": {
        "id": "24CYxE-DA8hp"
      }
    },
    {
      "cell_type": "code",
      "source": [
        "#ignoring warnings\n",
        "warnings.filterwarnings('ignore')  # \"error\", \"ignore\", \"always\", \"default\", \"module\" or \"once\"\n",
        "\n",
        "# Using to find train data\n",
        "model = LinearSVC(C=1.0)\n",
        "model.fit(X_train, y_train)\n",
        "\n",
        "# after training we can predict labels for the test samples\n",
        "predictions = model.predict(X_test)\n",
        "\n",
        "c_matrix = confusion_matrix(y_test,predictions)\n",
        "cr = classification_report(y_test,predictions, output_dict=True)\n",
        "model_accuracy = accuracy_score(y_test, predictions)"
      ],
      "metadata": {
        "id": "hqXOEspT6z5w"
      },
      "execution_count": null,
      "outputs": []
    },
    {
      "cell_type": "markdown",
      "source": [
        "SVC Results"
      ],
      "metadata": {
        "id": "75SDjDiSBIuy"
      }
    },
    {
      "cell_type": "code",
      "source": [
        "clsf_report = pd.DataFrame(cr).transpose()\n",
        "clsf_report1 = clsf_report[0:n_race]\n",
        "\n",
        "fig = px.bar(clsf_report1, barmode='group', template=template)\n",
        "fig.update_layout(width=700, height=700, template=template, title=\"Classification Report\")\n",
        "fig.show()"
      ],
      "metadata": {
        "id": "NiXgLavOBIQZ"
      },
      "execution_count": null,
      "outputs": []
    },
    {
      "cell_type": "markdown",
      "source": [
        "PCA for SVC Results"
      ],
      "metadata": {
        "id": "zo2lcklwBOqf"
      }
    },
    {
      "cell_type": "code",
      "source": [
        "from sklearn.preprocessing import StandardScaler \n",
        "from sklearn.decomposition import PCA \n",
        "\n",
        "dataPCA = dataT\n",
        "dataPCA = dataPCA.iloc[:,1:len(dataPCA.columns)]\n",
        "dataPCA\n",
        "\n",
        "scaled = StandardScaler() \n",
        "scaled.fit(dataPCA) \n",
        "scaled_data = scaled.transform(dataPCA) \n",
        "\n",
        "#Run PCA\n",
        "n_components=3\n",
        "pca = PCA(n_components) \n",
        "pca.fit(scaled_data) \n",
        "xpca = pca.transform(scaled_data)\n",
        "\n",
        "labels = {str(i): f'PC{i+1}: {pca.explained_variance_ratio_[i]*100:.2f}%' for i in range(n_components)}\n",
        "template = 'ggplot2'\n",
        "\n",
        "# Displaying the PCA for Race\n",
        "figPCA2D = px.scatter(xpca, x=0, y=1, color=y, \n",
        "                      labels=dataPCA.index,\n",
        "                      hover_name = dataPCA.index,\n",
        "                      title=\"PCA for Race\")\n",
        "figPCA2D.update_layout(width=1000, height=800, template=template)\n",
        "figPCA2D.show()"
      ],
      "metadata": {
        "id": "y7eHoboaBP7D"
      },
      "execution_count": null,
      "outputs": []
    },
    {
      "cell_type": "markdown",
      "source": [
        "Confusion Matrix for SVC classification of Race"
      ],
      "metadata": {
        "id": "rTS6AKGWB5Kg"
      }
    },
    {
      "cell_type": "code",
      "source": [
        "CM_df = pd.DataFrame(c_matrix, columns=race, index=race)\n",
        "\n",
        "heat = go.Heatmap(z = CM_df, x=CM_df.index, \n",
        "                  y=CM_df.columns, \n",
        "                  showscale = False,\n",
        "                  text=CM_df,\n",
        "                  texttemplate=\"%{text}\",\n",
        "                  textfont={\"size\":10})\n",
        "fig = go.Figure(heat)\n",
        "fig.update_layout(width=700, height=700, template=template, title=\"Confusion Matrix\")\n",
        "fig.show()"
      ],
      "metadata": {
        "id": "8vl1erYcB8A9"
      },
      "execution_count": null,
      "outputs": []
    }
  ]
}